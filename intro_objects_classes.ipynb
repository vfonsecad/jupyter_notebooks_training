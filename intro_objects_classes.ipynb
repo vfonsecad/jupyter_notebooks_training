{
 "cells": [
  {
   "cell_type": "markdown",
   "metadata": {
    "id": "EeYjE7UGzFzr"
   },
   "source": [
    "[![Open In Colab](https://colab.research.google.com/assets/colab-badge.svg)](https://colab.research.google.com/github/vfonsecad/jupyter_notebooks_training/blob/main/intro_object_classes.ipynb)"
   ]
  },
  {
   "cell_type": "code",
   "execution_count": null,
   "metadata": {
    "id": "Cd_NzZB8nSPX"
   },
   "outputs": [],
   "source": [
    "# --------------------------------------------------------------------------\n",
    "\n",
    "# ----------------- examples objects and classes\n",
    "\n",
    "# -------------------------------------------------------------------------\n",
    "\n",
    "\n",
    "# ¡¡¡ --- !!! # ---> modules \n",
    "\n",
    "# --- system modules\n",
    "\n",
    "import sys\n",
    "import datetime\n",
    "import os\n",
    "\n",
    "\n",
    "# --- data handling modules\n",
    "\n",
    "import numpy as np\n",
    "import pandas as pd\n",
    "import scipy.io as sp_io\n",
    "\n"
   ]
  },
  {
   "cell_type": "code",
   "execution_count": null,
   "metadata": {
    "colab": {
     "base_uri": "https://localhost:8080/"
    },
    "executionInfo": {
     "elapsed": 518,
     "status": "ok",
     "timestamp": 1617350724051,
     "user": {
      "displayName": "Valeria Fonseca Diaz",
      "photoUrl": "https://lh3.googleusercontent.com/a-/AOh14GiYn47qNARnUNaaN8Zx4bWmF0cinA52FAEW0bcz8g=s64",
      "userId": "04817281431022117726"
     },
     "user_tz": -120
    },
    "id": "6y6Fjd-3nSPc",
    "outputId": "492f6053-4cdb-43e0-c632-ad9f55c65bc7"
   },
   "outputs": [
    {
     "data": {
      "text/plain": [
       "14"
      ]
     },
     "execution_count": 2,
     "metadata": {
      "tags": []
     },
     "output_type": "execute_result"
    }
   ],
   "source": [
    "# object = every variable in python f = ... , f is an object\n",
    "# being an object means to have attributes and methods inside of it \n",
    "# in R, most of the objects have just attributes, i.e., just information and nothing to do with methods \n",
    "# an attribute of an object is a variable, it's a piece of information. A method is a function that is associated to an object\n",
    "# an object is an instance of a class. the class is the definition of all attributes and methods of an object. Class \"cars\", a mercedes would be an instance of the class \"cars\" \n",
    "# ex. mercedes = cars(.....)\n",
    "\n",
    "w = 9\n",
    "v = 5\n",
    "\n",
    "w + v"
   ]
  },
  {
   "cell_type": "code",
   "execution_count": null,
   "metadata": {
    "id": "bvvIeEpDnSPd"
   },
   "outputs": [],
   "source": [
    "# creating classes on python\n",
    "\n",
    "class person(object): # class definition, the name of the class is \"person\"\n",
    "    \n",
    "    def __init__(self, name_input, surname_input, age_input, gender_input): # first method of the class \"person\". Here I define the attributes of my class\n",
    "        \n",
    "        self.name = name_input # attribute \"name\"\n",
    "        self.surname = surname_input # attribute \"surname\"\n",
    "        self.age = age_input #attribute \"age\"\n",
    "        self.gender = gender_input #attribute \"gender\"\n",
    "        \n",
    "        # no need for return statement \n",
    "        \n",
    "    def method1(self): # method 1\n",
    "        \n",
    "        '''\n",
    "        This is the help of the function\n",
    "        \n",
    "        '''\n",
    "        \n",
    "        print(\"the name of the person is \", self.name, \".\")\n",
    "        \n",
    "    def change_name(self, new_name): # ************** this is a method that modifies the class when it's run ***********************\n",
    "        \n",
    "        self.name = new_name\n",
    "        \n",
    "        # no return statement\n",
    "        \n",
    "    def return_a_number(self):\n",
    "        \n",
    "        return self.age # return statement \n",
    "        \n",
    "    def __str__(self):\n",
    "        \n",
    "        return \"this is a person class\"\n",
    "        \n",
    "        \n"
   ]
  },
  {
   "cell_type": "code",
   "execution_count": null,
   "metadata": {
    "colab": {
     "base_uri": "https://localhost:8080/"
    },
    "executionInfo": {
     "elapsed": 505,
     "status": "ok",
     "timestamp": 1617350730305,
     "user": {
      "displayName": "Valeria Fonseca Diaz",
      "photoUrl": "https://lh3.googleusercontent.com/a-/AOh14GiYn47qNARnUNaaN8Zx4bWmF0cinA52FAEW0bcz8g=s64",
      "userId": "04817281431022117726"
     },
     "user_tz": -120
    },
    "id": "m1uWrGOAnSPe",
    "outputId": "c806afdc-7e84-45a6-ac6f-7889633b7e38"
   },
   "outputs": [
    {
     "name": "stdout",
     "output_type": "stream",
     "text": [
      "this is a person class\n"
     ]
    }
   ],
   "source": [
    "# create an instance of a person\n",
    "\n",
    "\n",
    "person1 = person(name_input = \"valeria\", surname_input = \"fonseca\", age_input = 30, gender_input = \"female\")\n",
    "print(person1)\n",
    "# dir(person1) # dir(object) for the attributes and the methods of object\n"
   ]
  },
  {
   "cell_type": "code",
   "execution_count": null,
   "metadata": {
    "colab": {
     "base_uri": "https://localhost:8080/"
    },
    "executionInfo": {
     "elapsed": 488,
     "status": "ok",
     "timestamp": 1617350733983,
     "user": {
      "displayName": "Valeria Fonseca Diaz",
      "photoUrl": "https://lh3.googleusercontent.com/a-/AOh14GiYn47qNARnUNaaN8Zx4bWmF0cinA52FAEW0bcz8g=s64",
      "userId": "04817281431022117726"
     },
     "user_tz": -120
    },
    "id": "jdr1yZ5rnSPe",
    "outputId": "4de9a1bc-539e-4a4f-feb1-964406fbaf67"
   },
   "outputs": [
    {
     "name": "stdout",
     "output_type": "stream",
     "text": [
      "valeria\n",
      "Help on method method1 in module __main__:\n",
      "\n",
      "method1() method of __main__.person instance\n",
      "    This is the help of the function\n",
      "\n"
     ]
    }
   ],
   "source": [
    "# accessing attributes and methods\n",
    "\n",
    "person1.age\n",
    "print(person1.name)\n",
    "person1.method1 # this is a function, not an attribute\n",
    "help(person1.method1)"
   ]
  },
  {
   "cell_type": "code",
   "execution_count": null,
   "metadata": {
    "colab": {
     "base_uri": "https://localhost:8080/"
    },
    "executionInfo": {
     "elapsed": 662,
     "status": "ok",
     "timestamp": 1617350736914,
     "user": {
      "displayName": "Valeria Fonseca Diaz",
      "photoUrl": "https://lh3.googleusercontent.com/a-/AOh14GiYn47qNARnUNaaN8Zx4bWmF0cinA52FAEW0bcz8g=s64",
      "userId": "04817281431022117726"
     },
     "user_tz": -120
    },
    "id": "vOv8pyhNnSPe",
    "outputId": "69c1aea2-4183-4d56-e602-7465c768c61b"
   },
   "outputs": [
    {
     "name": "stdout",
     "output_type": "stream",
     "text": [
      "the name of the person is  valeria .\n"
     ]
    }
   ],
   "source": [
    "person1.method1() # this is actually applying the method \"method1\""
   ]
  },
  {
   "cell_type": "code",
   "execution_count": null,
   "metadata": {
    "id": "lsSEXOL_nSPf"
   },
   "outputs": [],
   "source": [
    "# self modified class method\n",
    "\n",
    "# help(person1.change_name)\n",
    "person1.change_name(new_name = \"valeria_new_name\") # no assigment to another object!"
   ]
  },
  {
   "cell_type": "code",
   "execution_count": null,
   "metadata": {
    "colab": {
     "base_uri": "https://localhost:8080/"
    },
    "executionInfo": {
     "elapsed": 678,
     "status": "ok",
     "timestamp": 1617350749000,
     "user": {
      "displayName": "Valeria Fonseca Diaz",
      "photoUrl": "https://lh3.googleusercontent.com/a-/AOh14GiYn47qNARnUNaaN8Zx4bWmF0cinA52FAEW0bcz8g=s64",
      "userId": "04817281431022117726"
     },
     "user_tz": -120
    },
    "id": "gW7GkG0GnSPf",
    "outputId": "16a92bf1-07f9-4098-c2b8-a91cf895267a"
   },
   "outputs": [
    {
     "name": "stdout",
     "output_type": "stream",
     "text": [
      "valeria\n"
     ]
    }
   ],
   "source": [
    "print(person1.name)"
   ]
  },
  {
   "cell_type": "code",
   "execution_count": null,
   "metadata": {
    "colab": {
     "base_uri": "https://localhost:8080/"
    },
    "executionInfo": {
     "elapsed": 496,
     "status": "ok",
     "timestamp": 1617350751911,
     "user": {
      "displayName": "Valeria Fonseca Diaz",
      "photoUrl": "https://lh3.googleusercontent.com/a-/AOh14GiYn47qNARnUNaaN8Zx4bWmF0cinA52FAEW0bcz8g=s64",
      "userId": "04817281431022117726"
     },
     "user_tz": -120
    },
    "id": "mjRgthTBnSPf",
    "outputId": "1a9ea2d3-cde5-43a7-cadf-5e74ac2336dd"
   },
   "outputs": [
    {
     "data": {
      "text/plain": [
       "30"
      ]
     },
     "execution_count": 8,
     "metadata": {
      "tags": []
     },
     "output_type": "execute_result"
    }
   ],
   "source": [
    "my_number = person1.return_a_number()\n",
    "my_number"
   ]
  }
 ],
 "metadata": {
  "colab": {
   "collapsed_sections": [],
   "name": "intro_objects_classes.ipynb",
   "provenance": []
  },
  "kernelspec": {
   "display_name": "Python 3",
   "language": "python",
   "name": "python3"
  },
  "language_info": {
   "codemirror_mode": {
    "name": "ipython",
    "version": 3
   },
   "file_extension": ".py",
   "mimetype": "text/x-python",
   "name": "python",
   "nbconvert_exporter": "python",
   "pygments_lexer": "ipython3",
   "version": "3.7.7"
  }
 },
 "nbformat": 4,
 "nbformat_minor": 4
}
