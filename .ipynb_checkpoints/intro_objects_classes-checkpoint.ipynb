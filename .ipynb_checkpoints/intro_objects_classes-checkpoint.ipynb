{
 "cells": [
  {
   "cell_type": "code",
   "execution_count": 1,
   "metadata": {},
   "outputs": [],
   "source": [
    "# --------------------------------------------------------------------------\n",
    "\n",
    "# ----------------- examples objects and classes\n",
    "\n",
    "# -------------------------------------------------------------------------\n",
    "\n",
    "\n",
    "# ¡¡¡ --- !!! # ---> modules \n",
    "\n",
    "# --- system modules\n",
    "\n",
    "import sys\n",
    "import datetime\n",
    "import os\n",
    "\n",
    "\n",
    "# --- data handling modules\n",
    "\n",
    "import numpy as np\n",
    "import pandas as pd\n",
    "import scipy.io as sp_io\n",
    "\n"
   ]
  },
  {
   "cell_type": "code",
   "execution_count": 3,
   "metadata": {},
   "outputs": [
    {
     "data": {
      "text/plain": [
       "14"
      ]
     },
     "execution_count": 3,
     "metadata": {},
     "output_type": "execute_result"
    }
   ],
   "source": [
    "# object = every variable in python f = ... , f is an object\n",
    "# being an object means to have attributes and methods inside of it \n",
    "# in R, most of the objects have just attributes, i.e., just information and nothing to do with methods \n",
    "# an attribute of an object is a variable, it's a piece of information. A method is a function that is associated to an object\n",
    "# an object is an instance of a class. the class is the definition of all attributes and methods of an object. Class \"cars\", a mercedes would be an instance of the class \"cars\" \n",
    "# ex. mercedes = cars(.....)\n",
    "\n",
    "w = 9\n",
    "v = 5\n",
    "\n",
    "w + v"
   ]
  },
  {
   "cell_type": "code",
   "execution_count": 40,
   "metadata": {},
   "outputs": [],
   "source": [
    "# creating classes on python\n",
    "\n",
    "class person(object): # class definition, the name of the class is \"person\"\n",
    "    \n",
    "    def __init__(self, name_input, surname_input, age_input, gender_input): # first method of the class \"person\". Here I define the attributes of my class\n",
    "        \n",
    "        self.name = name_input # attribute \"name\"\n",
    "        self.surname = surname_input # attribute \"surname\"\n",
    "        self.age = age_input #attribute \"age\"\n",
    "        self.gender = gender_input #attribute \"gender\"\n",
    "        \n",
    "        # no need for return statement \n",
    "        \n",
    "    def method1(self): # method 1\n",
    "        \n",
    "        '''\n",
    "        This is the help of the function\n",
    "        \n",
    "        '''\n",
    "        \n",
    "        print(\"the name of the person is \", self.name, \".\")\n",
    "        \n",
    "    def change_name(self, new_name): # ************** this is a method that modifies the class when it's run ***********************\n",
    "        \n",
    "        self.name = new_name\n",
    "        \n",
    "        # no return statement\n",
    "        \n",
    "    def return_a_number(self):\n",
    "        \n",
    "        return self.age # return statement \n",
    "        \n",
    "    def __str__(self):\n",
    "        \n",
    "        return \"this is a person class\"\n",
    "        \n",
    "        \n"
   ]
  },
  {
   "cell_type": "code",
   "execution_count": 43,
   "metadata": {},
   "outputs": [
    {
     "name": "stdout",
     "output_type": "stream",
     "text": [
      "this is a person class\n"
     ]
    }
   ],
   "source": [
    "# create an instance of a person\n",
    "\n",
    "\n",
    "person1 = person(name_input = \"valeria\", surname_input = \"fonseca\", age_input = 30, gender_input = \"female\")\n",
    "print(person1)\n",
    "# dir(person1) # dir(object) for the attributes and the methods of object\n"
   ]
  },
  {
   "cell_type": "code",
   "execution_count": 33,
   "metadata": {},
   "outputs": [
    {
     "name": "stdout",
     "output_type": "stream",
     "text": [
      "valeria\n",
      "Help on method method1 in module __main__:\n",
      "\n",
      "method1() method of __main__.person instance\n",
      "    This is the help of the function\n",
      "\n"
     ]
    }
   ],
   "source": [
    "# accessing attributes and methods\n",
    "\n",
    "person1.age\n",
    "print(person1.name)\n",
    "person1.method1 # this is a function, not an attribute\n",
    "help(person1.method1)"
   ]
  },
  {
   "cell_type": "code",
   "execution_count": 34,
   "metadata": {},
   "outputs": [
    {
     "name": "stdout",
     "output_type": "stream",
     "text": [
      "the name of the person is  valeria .\n"
     ]
    }
   ],
   "source": [
    "person1.method1() # this is actually applying the method \"method1\""
   ]
  },
  {
   "cell_type": "code",
   "execution_count": 35,
   "metadata": {},
   "outputs": [],
   "source": [
    "# self modified class method\n",
    "\n",
    "# help(person1.change_name)\n",
    "person1.change_name(new_name = \"valeria_new_name\") # no assigment to another object!"
   ]
  },
  {
   "cell_type": "code",
   "execution_count": 36,
   "metadata": {},
   "outputs": [
    {
     "name": "stdout",
     "output_type": "stream",
     "text": [
      "valeria_new_name\n"
     ]
    }
   ],
   "source": [
    "print(person1.name)"
   ]
  },
  {
   "cell_type": "code",
   "execution_count": 39,
   "metadata": {},
   "outputs": [
    {
     "data": {
      "text/plain": [
       "30"
      ]
     },
     "execution_count": 39,
     "metadata": {},
     "output_type": "execute_result"
    }
   ],
   "source": [
    "my_number = person1.return_a_number()\n",
    "my_number"
   ]
  }
 ],
 "metadata": {
  "kernelspec": {
   "display_name": "Python 3",
   "language": "python",
   "name": "python3"
  },
  "language_info": {
   "codemirror_mode": {
    "name": "ipython",
    "version": 3
   },
   "file_extension": ".py",
   "mimetype": "text/x-python",
   "name": "python",
   "nbconvert_exporter": "python",
   "pygments_lexer": "ipython3",
   "version": "3.7.7"
  }
 },
 "nbformat": 4,
 "nbformat_minor": 4
}
